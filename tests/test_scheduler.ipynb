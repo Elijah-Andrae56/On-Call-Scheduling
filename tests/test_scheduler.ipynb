{
 "cells": [
  {
   "cell_type": "code",
   "execution_count": 29,
   "metadata": {},
   "outputs": [],
   "source": [
    "import sys\n",
    "import datetime as dt\n",
    "\n",
    "sys.path.append(r'C:\\Users\\User\\Desktop\\Class Stuff\\Python Practice\\Schedule')\n",
    "\n",
    "from on_call_scheduling_final import Date, DateManager, Scheduler"
   ]
  },
  {
   "cell_type": "code",
   "execution_count": 30,
   "metadata": {},
   "outputs": [],
   "source": [
    "\n",
    "start_date = dt.datetime(2024, 9, 29)  # Enter the date of Sunday Week 1\n",
    "end_date = dt.datetime(2024, 12, 13)   # Enter the date of Friday end of Finals Week\n",
    "\n",
    "time_range = DateManager(start_date, end_date)\n",
    "scheduler = Scheduler(time_range)"
   ]
  },
  {
   "cell_type": "code",
   "execution_count": 36,
   "metadata": {},
   "outputs": [
    {
     "name": "stdout",
     "output_type": "stream",
     "text": [
      "Preferences:\n",
      "soren: [0, 1, 2, 6, 7, 8, 9, 12, 14, 15, 16, 19, 20, 21, 22, 23, 26, 28, 29, 30, 36, 37, 43, 44, 47, 48, 49, 50, 51, 54, 55, 63, 64, 70, 71]\n",
      "Erin Donahue: [0, 2, 4, 6, 12, 13, 14, 16, 17, 18, 28, 30, 31, 32, 49, 51, 52, 53, 56, 58, 59, 60, 63, 65, 66, 67, 70, 72, 73, 74, 75]\n",
      "Eli A: [0, 2, 4, 6, 7, 9, 11, 14, 16, 18, 19, 20, 21, 23, 25, 28, 30, 32, 33, 34, 35, 37, 39, 42, 44, 46, 47, 48, 49, 51, 53, 54, 55, 56, 58, 60, 63, 65, 67, 70, 71, 72, 73, 74, 75]\n",
      "Savannah: [0, 1, 2, 6, 21, 23, 26, 27, 28, 29, 30, 34, 35, 36, 37, 43, 46, 49, 50, 55]\n",
      "Yogi Khor: [3, 4, 5, 10, 11, 12, 17, 18, 19, 24, 25, 26, 31, 32, 33, 38, 39, 40, 45, 46, 47, 52, 53, 54, 59, 60, 61, 66, 67, 68, 73, 74, 75]\n",
      "\n",
      "Unavailabilities:\n",
      "soren: []\n",
      "Erin Donahue: [5, 39, 40, 41, 42, 44, 46, 47, 48, 49]\n",
      "Eli A: [1, 3, 8, 10, 12, 13, 15, 17, 22, 24, 26, 27, 29, 31, 36, 38, 40, 41, 43, 45, 50, 52, 57, 59, 61, 62, 64, 66]\n",
      "Savannah: [34, 41, 47, 48, 68, 69]\n",
      "Yogi Khor: [0, 1, 2, 6, 7, 8, 13, 14, 15, 20, 21, 22, 27, 28, 29, 30, 34, 35, 36, 41, 42, 43, 48, 49, 50, 55, 56, 57, 58, 62, 63, 64, 69, 70, 71]\n"
     ]
    }
   ],
   "source": [
    "# Path to your CSV file\n",
    "file_path = r'C:\\Users\\User\\Desktop\\Class Stuff\\Python Practice\\Schedule\\tests\\data\\example_2.csv' \n",
    "\n",
    "scheduler.load_data(file_path)\n",
    "scheduler.parse_data()"
   ]
  },
  {
   "cell_type": "code",
   "execution_count": 37,
   "metadata": {},
   "outputs": [
    {
     "name": "stdout",
     "output_type": "stream",
     "text": [
      "No feasible solution found.\n"
     ]
    }
   ],
   "source": [
    "scheduler.build_model()\n",
    "scheduler.add_constraints()\n",
    "scheduler.define_objective()\n",
    "scheduler.solve()\n",
    "\n",
    "scheduler.print_schedule()"
   ]
  },
  {
   "cell_type": "code",
   "execution_count": null,
   "metadata": {},
   "outputs": [],
   "source": []
  }
 ],
 "metadata": {
  "kernelspec": {
   "display_name": "Python 3",
   "language": "python",
   "name": "python3"
  },
  "language_info": {
   "codemirror_mode": {
    "name": "ipython",
    "version": 3
   },
   "file_extension": ".py",
   "mimetype": "text/x-python",
   "name": "python",
   "nbconvert_exporter": "python",
   "pygments_lexer": "ipython3",
   "version": "3.12.6"
  }
 },
 "nbformat": 4,
 "nbformat_minor": 2
}
